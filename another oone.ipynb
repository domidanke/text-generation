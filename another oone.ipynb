{
 "cells": [
  {
   "cell_type": "code",
   "execution_count": 10,
   "id": "0d21c6d0",
   "metadata": {},
   "outputs": [],
   "source": [
    "import pandas as pd\n",
    "import numpy as np\n",
    "from tensorflow.keras.preprocessing.text import Tokenizer\n",
    "import re\n",
    "from sklearn.preprocessing import StandardScaler\n",
    "from sklearn.model_selection import train_test_split\n",
    "from tensorflow.keras.preprocessing.sequence import pad_sequences\n",
    "from tensorflow.keras.models import Model\n",
    "from tensorflow.keras.layers import Input, LSTM, Dense, Embedding, concatenate\n",
    "\n",
    "# Load the dataset\n",
    "data = pd.read_csv('all_songs_and_lyrics.csv')\n",
    "\n",
    "# Extract lyrics and numerical features\n",
    "lyrics = data['text']\n",
    "numerical_features = data[['danceability', 'energy', 'key', 'loudness', 'mode', 'speechiness', 'acousticness', 'instrumentalness', 'liveness', 'valence', 'tempo']]\n",
    "\n",
    "# Clean and preprocess lyrics\n",
    "def preprocess_lyrics(lyric):\n",
    "    # Lowercase the lyric\n",
    "    lyric = lyric.lower()\n",
    "\n",
    "    # Remove punctuation\n",
    "    lyric = re.sub(r'[^\\w\\s]', '', lyric)\n",
    "\n",
    "    # Remove extra whitespaces\n",
    "    lyric = re.sub(r'\\s+', ' ', lyric)\n",
    "\n",
    "    # Return the preprocessed lyric\n",
    "    return lyric\n",
    "\n",
    "preprocessed_lyrics = [preprocess_lyrics(lyric) for lyric in lyrics]"
   ]
  },
  {
   "cell_type": "code",
   "execution_count": 11,
   "id": "6dc7de2b",
   "metadata": {},
   "outputs": [],
   "source": [
    "tokenizer = Tokenizer()\n",
    "tokenizer.fit_on_texts(preprocessed_lyrics)\n",
    "sequences = tokenizer.texts_to_sequences(preprocessed_lyrics)\n",
    "total_words = len(tokenizer.word_index) + 1\n",
    "max_sequence_length = max(len(seq) for seq in tokenizer.texts_to_sequences(data['text']))\n",
    "\n",
    "padded_sequences = pad_sequences(sequences, maxlen=max_sequence_length, padding='post', truncating='post')\n",
    "\n",
    "# Model Architecture\n",
    "text_input = Input(shape=(max_sequence_length,), name='text_input')\n",
    "non_text_input = Input(shape=(11,), name='non_text_input')\n",
    "embedding_layer = Embedding(input_dim=total_words, output_dim=150)(text_input)\n",
    "lstm_layer = LSTM(units=256)(embedding_layer)\n",
    "combined = concatenate([lstm_layer, non_text_input])\n",
    "output = Dense(total_words, activation='softmax')(combined)\n",
    "model = Model(inputs=[text_input, non_text_input], outputs=output)\n",
    "model.compile(optimizer='adam', loss='categorical_crossentropy')\n",
    "\n"
   ]
  },
  {
   "cell_type": "code",
   "execution_count": 16,
   "id": "c898f6a9",
   "metadata": {},
   "outputs": [],
   "source": [
    "# Assuming you have already loaded and preprocessed your data\n",
    "X_text_train, X_text_val, X_non_text_train, X_non_text_val, y_train, y_val = train_test_split(\n",
    "    padded_sequences,  # Padded sequences for lyrics\n",
    "    numerical_features,\n",
    "    lyrics,\n",
    "    test_size=0.2,\n",
    "    random_state=42\n",
    ")\n",
    "\n",
    "# Scaling non-text features\n",
    "scaler = StandardScaler()\n",
    "X_non_text_train_scaled = scaler.fit_transform(X_non_text_train)\n",
    "X_non_text_val_scaled = scaler.transform(X_non_text_val)"
   ]
  },
  {
   "cell_type": "code",
   "execution_count": 17,
   "id": "86752532",
   "metadata": {},
   "outputs": [
    {
     "name": "stdout",
     "output_type": "stream",
     "text": [
      "Epoch 1/5\n"
     ]
    },
    {
     "ename": "ValueError",
     "evalue": "in user code:\n\n    File \"/Users/domidanke/anaconda3/lib/python3.11/site-packages/keras/src/engine/training.py\", line 1401, in train_function  *\n        return step_function(self, iterator)\n    File \"/Users/domidanke/anaconda3/lib/python3.11/site-packages/keras/src/engine/training.py\", line 1384, in step_function  **\n        outputs = model.distribute_strategy.run(run_step, args=(data,))\n    File \"/Users/domidanke/anaconda3/lib/python3.11/site-packages/keras/src/engine/training.py\", line 1373, in run_step  **\n        outputs = model.train_step(data)\n    File \"/Users/domidanke/anaconda3/lib/python3.11/site-packages/keras/src/engine/training.py\", line 1151, in train_step\n        loss = self.compute_loss(x, y, y_pred, sample_weight)\n    File \"/Users/domidanke/anaconda3/lib/python3.11/site-packages/keras/src/engine/training.py\", line 1209, in compute_loss\n        return self.compiled_loss(\n    File \"/Users/domidanke/anaconda3/lib/python3.11/site-packages/keras/src/engine/compile_utils.py\", line 248, in __call__\n        y_true = self._conform_to_outputs(y_pred, y_true)\n    File \"/Users/domidanke/anaconda3/lib/python3.11/site-packages/keras/src/engine/compile_utils.py\", line 63, in _conform_to_outputs\n        struct = map_to_output_names(outputs, self._output_names, struct)\n    File \"/Users/domidanke/anaconda3/lib/python3.11/site-packages/keras/src/engine/compile_utils.py\", line 819, in map_to_output_names\n        raise ValueError(\n\n    ValueError: Found unexpected losses or metrics that do not correspond to any Model output: dict_keys(['output']). Valid mode output names: ['dense_3']. Received struct is: {'output': <tf.Tensor 'IteratorGetNext:2' shape=(None, 1) dtype=string>}.\n",
     "output_type": "error",
     "traceback": [
      "\u001b[0;31m---------------------------------------------------------------------------\u001b[0m",
      "\u001b[0;31mValueError\u001b[0m                                Traceback (most recent call last)",
      "Cell \u001b[0;32mIn[17], line 2\u001b[0m\n\u001b[1;32m      1\u001b[0m \u001b[38;5;66;03m# Training\u001b[39;00m\n\u001b[0;32m----> 2\u001b[0m model\u001b[38;5;241m.\u001b[39mfit(\n\u001b[1;32m      3\u001b[0m     {\u001b[38;5;124m'\u001b[39m\u001b[38;5;124mtext_input\u001b[39m\u001b[38;5;124m'\u001b[39m: X_text_train, \u001b[38;5;124m'\u001b[39m\u001b[38;5;124mnon_text_input\u001b[39m\u001b[38;5;124m'\u001b[39m: X_non_text_train_scaled},\n\u001b[1;32m      4\u001b[0m     {\u001b[38;5;124m'\u001b[39m\u001b[38;5;124moutput\u001b[39m\u001b[38;5;124m'\u001b[39m: y_train},\n\u001b[1;32m      5\u001b[0m     epochs\u001b[38;5;241m=\u001b[39m\u001b[38;5;241m5\u001b[39m,\n\u001b[1;32m      6\u001b[0m     batch_size\u001b[38;5;241m=\u001b[39m\u001b[38;5;241m32\u001b[39m,\n\u001b[1;32m      7\u001b[0m     validation_data\u001b[38;5;241m=\u001b[39m({\u001b[38;5;124m'\u001b[39m\u001b[38;5;124mtext_input\u001b[39m\u001b[38;5;124m'\u001b[39m: X_text_val, \u001b[38;5;124m'\u001b[39m\u001b[38;5;124mnon_text_input\u001b[39m\u001b[38;5;124m'\u001b[39m: X_non_text_val_scaled}, {\u001b[38;5;124m'\u001b[39m\u001b[38;5;124moutput\u001b[39m\u001b[38;5;124m'\u001b[39m: y_val})\n\u001b[1;32m      8\u001b[0m )\n",
      "File \u001b[0;32m~/anaconda3/lib/python3.11/site-packages/keras/src/utils/traceback_utils.py:70\u001b[0m, in \u001b[0;36mfilter_traceback.<locals>.error_handler\u001b[0;34m(*args, **kwargs)\u001b[0m\n\u001b[1;32m     67\u001b[0m     filtered_tb \u001b[38;5;241m=\u001b[39m _process_traceback_frames(e\u001b[38;5;241m.\u001b[39m__traceback__)\n\u001b[1;32m     68\u001b[0m     \u001b[38;5;66;03m# To get the full stack trace, call:\u001b[39;00m\n\u001b[1;32m     69\u001b[0m     \u001b[38;5;66;03m# `tf.debugging.disable_traceback_filtering()`\u001b[39;00m\n\u001b[0;32m---> 70\u001b[0m     \u001b[38;5;28;01mraise\u001b[39;00m e\u001b[38;5;241m.\u001b[39mwith_traceback(filtered_tb) \u001b[38;5;28;01mfrom\u001b[39;00m \u001b[38;5;28;01mNone\u001b[39;00m\n\u001b[1;32m     71\u001b[0m \u001b[38;5;28;01mfinally\u001b[39;00m:\n\u001b[1;32m     72\u001b[0m     \u001b[38;5;28;01mdel\u001b[39;00m filtered_tb\n",
      "File \u001b[0;32m/var/folders/ly/8d5fbrbx2dzg43y2bvpr12440000gn/T/__autograph_generated_filev9nd9gec.py:15\u001b[0m, in \u001b[0;36mouter_factory.<locals>.inner_factory.<locals>.tf__train_function\u001b[0;34m(iterator)\u001b[0m\n\u001b[1;32m     13\u001b[0m \u001b[38;5;28;01mtry\u001b[39;00m:\n\u001b[1;32m     14\u001b[0m     do_return \u001b[38;5;241m=\u001b[39m \u001b[38;5;28;01mTrue\u001b[39;00m\n\u001b[0;32m---> 15\u001b[0m     retval_ \u001b[38;5;241m=\u001b[39m ag__\u001b[38;5;241m.\u001b[39mconverted_call(ag__\u001b[38;5;241m.\u001b[39mld(step_function), (ag__\u001b[38;5;241m.\u001b[39mld(\u001b[38;5;28mself\u001b[39m), ag__\u001b[38;5;241m.\u001b[39mld(iterator)), \u001b[38;5;28;01mNone\u001b[39;00m, fscope)\n\u001b[1;32m     16\u001b[0m \u001b[38;5;28;01mexcept\u001b[39;00m:\n\u001b[1;32m     17\u001b[0m     do_return \u001b[38;5;241m=\u001b[39m \u001b[38;5;28;01mFalse\u001b[39;00m\n",
      "\u001b[0;31mValueError\u001b[0m: in user code:\n\n    File \"/Users/domidanke/anaconda3/lib/python3.11/site-packages/keras/src/engine/training.py\", line 1401, in train_function  *\n        return step_function(self, iterator)\n    File \"/Users/domidanke/anaconda3/lib/python3.11/site-packages/keras/src/engine/training.py\", line 1384, in step_function  **\n        outputs = model.distribute_strategy.run(run_step, args=(data,))\n    File \"/Users/domidanke/anaconda3/lib/python3.11/site-packages/keras/src/engine/training.py\", line 1373, in run_step  **\n        outputs = model.train_step(data)\n    File \"/Users/domidanke/anaconda3/lib/python3.11/site-packages/keras/src/engine/training.py\", line 1151, in train_step\n        loss = self.compute_loss(x, y, y_pred, sample_weight)\n    File \"/Users/domidanke/anaconda3/lib/python3.11/site-packages/keras/src/engine/training.py\", line 1209, in compute_loss\n        return self.compiled_loss(\n    File \"/Users/domidanke/anaconda3/lib/python3.11/site-packages/keras/src/engine/compile_utils.py\", line 248, in __call__\n        y_true = self._conform_to_outputs(y_pred, y_true)\n    File \"/Users/domidanke/anaconda3/lib/python3.11/site-packages/keras/src/engine/compile_utils.py\", line 63, in _conform_to_outputs\n        struct = map_to_output_names(outputs, self._output_names, struct)\n    File \"/Users/domidanke/anaconda3/lib/python3.11/site-packages/keras/src/engine/compile_utils.py\", line 819, in map_to_output_names\n        raise ValueError(\n\n    ValueError: Found unexpected losses or metrics that do not correspond to any Model output: dict_keys(['output']). Valid mode output names: ['dense_3']. Received struct is: {'output': <tf.Tensor 'IteratorGetNext:2' shape=(None, 1) dtype=string>}.\n"
     ]
    }
   ],
   "source": [
    "# Training\n",
    "model.fit(\n",
    "    {'text_input': X_text_train, 'non_text_input': X_non_text_train_scaled},\n",
    "    {'output': y_train},\n",
    "    epochs=5,\n",
    "    batch_size=32,\n",
    "    validation_data=({'text_input': X_text_val, 'non_text_input': X_non_text_val_scaled}, {'output': y_val})\n",
    ")"
   ]
  },
  {
   "cell_type": "code",
   "execution_count": null,
   "id": "879390cc",
   "metadata": {},
   "outputs": [],
   "source": []
  }
 ],
 "metadata": {
  "kernelspec": {
   "display_name": "Python 3 (ipykernel)",
   "language": "python",
   "name": "python3"
  },
  "language_info": {
   "codemirror_mode": {
    "name": "ipython",
    "version": 3
   },
   "file_extension": ".py",
   "mimetype": "text/x-python",
   "name": "python",
   "nbconvert_exporter": "python",
   "pygments_lexer": "ipython3",
   "version": "3.11.5"
  }
 },
 "nbformat": 4,
 "nbformat_minor": 5
}

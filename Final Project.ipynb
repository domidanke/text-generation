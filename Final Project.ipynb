{
 "cells": [
  {
   "cell_type": "markdown",
   "id": "a87042db",
   "metadata": {},
   "source": [
    "# Introduction"
   ]
  },
  {
   "cell_type": "markdown",
   "id": "2489a53b",
   "metadata": {},
   "source": [
    "The goal of this project is to create a small and simple language model on music data from spotify that completes a sentence using lyrics data. Even though this model does not bring any value to the music industry, it will be a fun little model to complete sentences of songwriters who struggle to finsih a sentence while writing songs. This strategy will be based on predictive models using a machine learning algorithm and tensorflow.\n",
    "\n",
    "To do this we use several datasets from Kaggle: \n",
    "\n",
    "https://www.kaggle.com/datasets/maharshipandya/-spotify-tracks-dataset\n",
    "\n",
    "https://www.kaggle.com/datasets/notshrirang/spotify-million-song-dataset\n",
    "\n",
    "https://www.kaggle.com/datasets/nelgiriyewithana/top-spotify-songs-2023/data\n",
    "\n",
    "The datasets are mostly composed of lyrics, artists, genres, title, etc. but have other properties as well that add too much complexity and are therefore left out in this project. I chose to start these datasets because, combined, they can add more value to an overall more clean dataset."
   ]
  },
  {
   "cell_type": "markdown",
   "id": "ed0b8104",
   "metadata": {},
   "source": [
    "### Install Tensorflow : pip install tensorflow"
   ]
  },
  {
   "cell_type": "markdown",
   "id": "494db773",
   "metadata": {},
   "source": [
    "### Imports"
   ]
  },
  {
   "cell_type": "code",
   "execution_count": 9,
   "id": "74052ac5",
   "metadata": {},
   "outputs": [],
   "source": [
    "import pandas as pd\n",
    "import numpy as np\n",
    "import tensorflow as tf\n",
    "from tensorflow.keras.preprocessing.text import Tokenizer\n",
    "import re\n",
    "from tensorflow.keras.preprocessing.sequence import pad_sequences"
   ]
  },
  {
   "cell_type": "markdown",
   "id": "39256750",
   "metadata": {},
   "source": [
    "### Dataset clean up"
   ]
  },
  {
   "cell_type": "code",
   "execution_count": 2,
   "id": "e5c181b4",
   "metadata": {},
   "outputs": [],
   "source": [
    "# https://www.kaggle.com/datasets/nelgiriyewithana/top-spotify-songs-2023/data\n",
    "most_streamed = pd.read_csv('spotify-most-streamed-2023.csv', encoding='ISO-8859-1')\n",
    "# https://www.kaggle.com/datasets/maharshipandya/-spotify-tracks-dataset\n",
    "lyrics = pd.read_csv('spotify-lyrics.csv', encoding='ISO-8859-1')\n",
    "# https://www.kaggle.com/datasets/notshrirang/spotify-million-song-dataset\n",
    "songs = pd.read_csv('songs.csv', encoding='ISO-8859-1')"
   ]
  },
  {
   "cell_type": "code",
   "execution_count": 3,
   "id": "d54d0bc0",
   "metadata": {},
   "outputs": [
    {
     "name": "stdout",
     "output_type": "stream",
     "text": [
      "<class 'pandas.core.frame.DataFrame'>\n",
      "RangeIndex: 953 entries, 0 to 952\n",
      "Data columns (total 24 columns):\n",
      " #   Column                Non-Null Count  Dtype \n",
      "---  ------                --------------  ----- \n",
      " 0   track_name            953 non-null    object\n",
      " 1   artist(s)_name        953 non-null    object\n",
      " 2   artist_count          953 non-null    int64 \n",
      " 3   released_year         953 non-null    int64 \n",
      " 4   released_month        953 non-null    int64 \n",
      " 5   released_day          953 non-null    int64 \n",
      " 6   in_spotify_playlists  953 non-null    int64 \n",
      " 7   in_spotify_charts     953 non-null    int64 \n",
      " 8   streams               953 non-null    object\n",
      " 9   in_apple_playlists    953 non-null    int64 \n",
      " 10  in_apple_charts       953 non-null    int64 \n",
      " 11  in_deezer_playlists   953 non-null    object\n",
      " 12  in_deezer_charts      953 non-null    int64 \n",
      " 13  in_shazam_charts      903 non-null    object\n",
      " 14  bpm                   953 non-null    int64 \n",
      " 15  key                   858 non-null    object\n",
      " 16  mode                  953 non-null    object\n",
      " 17  danceability_%        953 non-null    int64 \n",
      " 18  valence_%             953 non-null    int64 \n",
      " 19  energy_%              953 non-null    int64 \n",
      " 20  acousticness_%        953 non-null    int64 \n",
      " 21  instrumentalness_%    953 non-null    int64 \n",
      " 22  liveness_%            953 non-null    int64 \n",
      " 23  speechiness_%         953 non-null    int64 \n",
      "dtypes: int64(17), object(7)\n",
      "memory usage: 178.8+ KB\n"
     ]
    }
   ],
   "source": [
    "most_streamed.info()"
   ]
  },
  {
   "cell_type": "code",
   "execution_count": 45,
   "id": "d0e3c54b",
   "metadata": {},
   "outputs": [
    {
     "name": "stdout",
     "output_type": "stream",
     "text": [
      "<class 'pandas.core.frame.DataFrame'>\n",
      "Index: 44795 entries, 0 to 57644\n",
      "Data columns (total 2 columns):\n",
      " #   Column  Non-Null Count  Dtype \n",
      "---  ------  --------------  ----- \n",
      " 0   song    44795 non-null  object\n",
      " 1   text    44795 non-null  object\n",
      "dtypes: object(2)\n",
      "memory usage: 1.0+ MB\n"
     ]
    }
   ],
   "source": [
    "lyrics.info()"
   ]
  },
  {
   "cell_type": "code",
   "execution_count": 57,
   "id": "149b3e15",
   "metadata": {},
   "outputs": [
    {
     "name": "stdout",
     "output_type": "stream",
     "text": [
      "<class 'pandas.core.frame.DataFrame'>\n",
      "Index: 89741 entries, 0 to 113999\n",
      "Data columns (total 21 columns):\n",
      " #   Column            Non-Null Count  Dtype  \n",
      "---  ------            --------------  -----  \n",
      " 0   Unnamed: 0        89741 non-null  int64  \n",
      " 1   track_id          89741 non-null  object \n",
      " 2   artists           89740 non-null  object \n",
      " 3   album_name        89740 non-null  object \n",
      " 4   track_name        89740 non-null  object \n",
      " 5   popularity        89741 non-null  int64  \n",
      " 6   duration_ms       89741 non-null  int64  \n",
      " 7   explicit          89741 non-null  bool   \n",
      " 8   danceability      89741 non-null  float64\n",
      " 9   energy            89741 non-null  float64\n",
      " 10  key               89741 non-null  int64  \n",
      " 11  loudness          89741 non-null  float64\n",
      " 12  mode              89741 non-null  int64  \n",
      " 13  speechiness       89741 non-null  float64\n",
      " 14  acousticness      89741 non-null  float64\n",
      " 15  instrumentalness  89741 non-null  float64\n",
      " 16  liveness          89741 non-null  float64\n",
      " 17  valence           89741 non-null  float64\n",
      " 18  tempo             89741 non-null  float64\n",
      " 19  time_signature    89741 non-null  int64  \n",
      " 20  track_genre       89741 non-null  object \n",
      "dtypes: bool(1), float64(9), int64(6), object(5)\n",
      "memory usage: 14.5+ MB\n"
     ]
    }
   ],
   "source": [
    "songs.info()"
   ]
  },
  {
   "cell_type": "markdown",
   "id": "8ac9ad8a",
   "metadata": {},
   "source": [
    "### Dropping duplicate rows\n",
    "There are several rows that are basically identical but have a difference in an irrelevant column.\n",
    "There are also remixes, covers, etc. of songs that have the exact same lyrics. I take the first unique lyrics in that case."
   ]
  },
  {
   "cell_type": "code",
   "execution_count": 4,
   "id": "aabd11c8",
   "metadata": {},
   "outputs": [],
   "source": [
    "songs = songs.drop_duplicates(subset='track_id', keep='first')"
   ]
  },
  {
   "cell_type": "code",
   "execution_count": 5,
   "id": "b8de293f",
   "metadata": {},
   "outputs": [],
   "source": [
    "songs = songs.drop_duplicates(subset='track_name', keep='first')"
   ]
  },
  {
   "cell_type": "code",
   "execution_count": 6,
   "id": "1451dea0",
   "metadata": {},
   "outputs": [],
   "source": [
    "columns_to_remove = ['artist', 'link']\n",
    "lyrics = lyrics.drop(columns=columns_to_remove)\n",
    "lyrics = lyrics.drop_duplicates(subset='song', keep='first')\n",
    "lyrics = lyrics.drop_duplicates(subset='text', keep='first')"
   ]
  },
  {
   "cell_type": "code",
   "execution_count": 7,
   "id": "a71a990b",
   "metadata": {},
   "outputs": [
    {
     "data": {
      "text/html": [
       "<div>\n",
       "<style scoped>\n",
       "    .dataframe tbody tr th:only-of-type {\n",
       "        vertical-align: middle;\n",
       "    }\n",
       "\n",
       "    .dataframe tbody tr th {\n",
       "        vertical-align: top;\n",
       "    }\n",
       "\n",
       "    .dataframe thead th {\n",
       "        text-align: right;\n",
       "    }\n",
       "</style>\n",
       "<table border=\"1\" class=\"dataframe\">\n",
       "  <thead>\n",
       "    <tr style=\"text-align: right;\">\n",
       "      <th></th>\n",
       "      <th>song</th>\n",
       "      <th>text</th>\n",
       "    </tr>\n",
       "  </thead>\n",
       "  <tbody>\n",
       "    <tr>\n",
       "      <th>0</th>\n",
       "      <td>Ahe's My Kind Of Girl</td>\n",
       "      <td>Look at her face, it's a wonderful face  \\r\\nA...</td>\n",
       "    </tr>\n",
       "    <tr>\n",
       "      <th>1</th>\n",
       "      <td>Andante, Andante</td>\n",
       "      <td>Take it easy with me, please  \\r\\nTouch me gen...</td>\n",
       "    </tr>\n",
       "    <tr>\n",
       "      <th>2</th>\n",
       "      <td>As Good As New</td>\n",
       "      <td>I'll never know why I had to go  \\r\\nWhy I had...</td>\n",
       "    </tr>\n",
       "    <tr>\n",
       "      <th>3</th>\n",
       "      <td>Bang</td>\n",
       "      <td>Making somebody happy is a question of give an...</td>\n",
       "    </tr>\n",
       "    <tr>\n",
       "      <th>4</th>\n",
       "      <td>Bang-A-Boomerang</td>\n",
       "      <td>Making somebody happy is a question of give an...</td>\n",
       "    </tr>\n",
       "    <tr>\n",
       "      <th>5</th>\n",
       "      <td>Burning My Bridges</td>\n",
       "      <td>Well, you hoot and you holler and you make me ...</td>\n",
       "    </tr>\n",
       "    <tr>\n",
       "      <th>6</th>\n",
       "      <td>Cassandra</td>\n",
       "      <td>Down in the street they're all singing and sho...</td>\n",
       "    </tr>\n",
       "    <tr>\n",
       "      <th>7</th>\n",
       "      <td>Chiquitita</td>\n",
       "      <td>Chiquitita, tell me what's wrong  \\r\\nYou're e...</td>\n",
       "    </tr>\n",
       "    <tr>\n",
       "      <th>8</th>\n",
       "      <td>Crazy World</td>\n",
       "      <td>I was out with the morning sun  \\r\\nCouldn't s...</td>\n",
       "    </tr>\n",
       "    <tr>\n",
       "      <th>9</th>\n",
       "      <td>Crying Over You</td>\n",
       "      <td>I'm waitin' for you baby  \\r\\nI'm sitting all ...</td>\n",
       "    </tr>\n",
       "    <tr>\n",
       "      <th>10</th>\n",
       "      <td>Dance</td>\n",
       "      <td>Oh, my love it makes me sad.  \\r\\nWhy did thin...</td>\n",
       "    </tr>\n",
       "    <tr>\n",
       "      <th>11</th>\n",
       "      <td>Dancing Queen</td>\n",
       "      <td>You can dance, you can jive, having the time o...</td>\n",
       "    </tr>\n",
       "    <tr>\n",
       "      <th>12</th>\n",
       "      <td>Disillusion</td>\n",
       "      <td>Changing, moving in a circle  \\r\\nI can see yo...</td>\n",
       "    </tr>\n",
       "    <tr>\n",
       "      <th>13</th>\n",
       "      <td>Does Your Mother Know</td>\n",
       "      <td>You're so hot, teasing me  \\r\\nSo you're blue ...</td>\n",
       "    </tr>\n",
       "    <tr>\n",
       "      <th>14</th>\n",
       "      <td>Dream World</td>\n",
       "      <td>Agnetha We're not the stars of a Hollywood mov...</td>\n",
       "    </tr>\n",
       "    <tr>\n",
       "      <th>15</th>\n",
       "      <td>Dum Dum Diddle</td>\n",
       "      <td>I can hear how you work, practising hard  \\r\\n...</td>\n",
       "    </tr>\n",
       "    <tr>\n",
       "      <th>16</th>\n",
       "      <td>Eagle</td>\n",
       "      <td>They came flying from far away, now I'm under ...</td>\n",
       "    </tr>\n",
       "    <tr>\n",
       "      <th>17</th>\n",
       "      <td>Every Good Man</td>\n",
       "      <td>Every good man needs a helping hand  \\r\\nso I ...</td>\n",
       "    </tr>\n",
       "    <tr>\n",
       "      <th>18</th>\n",
       "      <td>Fernando</td>\n",
       "      <td>Can you hear the drums Fernando?  \\r\\nI rememb...</td>\n",
       "    </tr>\n",
       "    <tr>\n",
       "      <th>19</th>\n",
       "      <td>Fernando (In Spanish)</td>\n",
       "      <td>Puedes escuchar Fernando?  \\r\\nMe recuerda tie...</td>\n",
       "    </tr>\n",
       "    <tr>\n",
       "      <th>20</th>\n",
       "      <td>Free As A Bumble Bee</td>\n",
       "      <td>I'm down and I feel depressed  \\r\\nSitting her...</td>\n",
       "    </tr>\n",
       "    <tr>\n",
       "      <th>21</th>\n",
       "      <td>From A Twinkling Star To A Passing Angel</td>\n",
       "      <td>Twinkle, Twinkle little star  \\r\\nHow I wonder...</td>\n",
       "    </tr>\n",
       "    <tr>\n",
       "      <th>22</th>\n",
       "      <td>Gimme Gimme Gimme</td>\n",
       "      <td>Half past twelve  \\r\\nAnd I'm watching the lat...</td>\n",
       "    </tr>\n",
       "    <tr>\n",
       "      <th>23</th>\n",
       "      <td>Givin' A Little Bit More</td>\n",
       "      <td>There's a gentleness to everything you do  \\r\\...</td>\n",
       "    </tr>\n",
       "    <tr>\n",
       "      <th>24</th>\n",
       "      <td>Gonna Sing You My Lovesong</td>\n",
       "      <td>You say she's been mad at you  \\r\\nThen you sa...</td>\n",
       "    </tr>\n",
       "    <tr>\n",
       "      <th>25</th>\n",
       "      <td>Hamlet III</td>\n",
       "      <td>When the autumn leaves are falling to the grou...</td>\n",
       "    </tr>\n",
       "    <tr>\n",
       "      <th>26</th>\n",
       "      <td>Happy Hawaii</td>\n",
       "      <td>Agnetha, Frida Early this morning I drove in t...</td>\n",
       "    </tr>\n",
       "    <tr>\n",
       "      <th>27</th>\n",
       "      <td>Happy New Year</td>\n",
       "      <td>No more champagne  \\r\\nAnd the fireworks are t...</td>\n",
       "    </tr>\n",
       "    <tr>\n",
       "      <th>28</th>\n",
       "      <td>He Is Your Brother</td>\n",
       "      <td>Benny I was a fighter, always looking for trou...</td>\n",
       "    </tr>\n",
       "    <tr>\n",
       "      <th>29</th>\n",
       "      <td>Head Over Heels</td>\n",
       "      <td>I have a very good friend  \\r\\nThe kind of gir...</td>\n",
       "    </tr>\n",
       "    <tr>\n",
       "      <th>30</th>\n",
       "      <td>Here We'll Stay</td>\n",
       "      <td>Love, love is a dream  \\r\\nWe were like two yo...</td>\n",
       "    </tr>\n",
       "    <tr>\n",
       "      <th>31</th>\n",
       "      <td>Hey Hey Helen</td>\n",
       "      <td>So at last you're free  \\r\\nIt's the way you w...</td>\n",
       "    </tr>\n",
       "    <tr>\n",
       "      <th>32</th>\n",
       "      <td>Hole In Your Soul</td>\n",
       "      <td>You feel bad, let me tell you, we all get the ...</td>\n",
       "    </tr>\n",
       "    <tr>\n",
       "      <th>33</th>\n",
       "      <td>Honey, Honey</td>\n",
       "      <td>Honey honey, how you thrills me, ah-hah, honey...</td>\n",
       "    </tr>\n",
       "    <tr>\n",
       "      <th>34</th>\n",
       "      <td>I Am Just A Girl</td>\n",
       "      <td>I am just a girl  \\r\\nOne among the others, no...</td>\n",
       "    </tr>\n",
       "    <tr>\n",
       "      <th>35</th>\n",
       "      <td>I Am The City</td>\n",
       "      <td>i am the city, you let me be  \\r\\ni am the cit...</td>\n",
       "    </tr>\n",
       "    <tr>\n",
       "      <th>36</th>\n",
       "      <td>I Do, I Do, I Do, I Do, I Do</td>\n",
       "      <td>Love me or leave me  \\r\\nMake your choice but ...</td>\n",
       "    </tr>\n",
       "    <tr>\n",
       "      <th>37</th>\n",
       "      <td>I Have A Dream</td>\n",
       "      <td>I have a dream, a song to sing  \\r\\nTo help me...</td>\n",
       "    </tr>\n",
       "    <tr>\n",
       "      <th>38</th>\n",
       "      <td>I Let The Music Speak</td>\n",
       "      <td>I'm hearing images, I'm seeing songs  \\r\\nNo p...</td>\n",
       "    </tr>\n",
       "    <tr>\n",
       "      <th>39</th>\n",
       "      <td>I Saw It In The Mirror</td>\n",
       "      <td>I saw it in the mirror  \\r\\nI saw it in my fac...</td>\n",
       "    </tr>\n",
       "    <tr>\n",
       "      <th>40</th>\n",
       "      <td>I Wonder (Departure)</td>\n",
       "      <td>This park and these houses, old streets I have...</td>\n",
       "    </tr>\n",
       "    <tr>\n",
       "      <th>41</th>\n",
       "      <td>I Wonder (Departure) [Live]</td>\n",
       "      <td>This park and these houses  \\r\\nOld streets I ...</td>\n",
       "    </tr>\n",
       "    <tr>\n",
       "      <th>42</th>\n",
       "      <td>If It Wasn't For The Nights</td>\n",
       "      <td>I got appointments, work I have to do  \\r\\nKee...</td>\n",
       "    </tr>\n",
       "    <tr>\n",
       "      <th>43</th>\n",
       "      <td>I'm A Marionette</td>\n",
       "      <td>You're so free  \\r\\nThat's what everybody's te...</td>\n",
       "    </tr>\n",
       "    <tr>\n",
       "      <th>44</th>\n",
       "      <td>I've Been Waiting For You</td>\n",
       "      <td>I, I've been in love before  \\r\\nI thought I w...</td>\n",
       "    </tr>\n",
       "    <tr>\n",
       "      <th>45</th>\n",
       "      <td>Juper Jrouper</td>\n",
       "      <td>Super Trooper beams are gonna blind me  \\r\\nBu...</td>\n",
       "    </tr>\n",
       "    <tr>\n",
       "      <th>46</th>\n",
       "      <td>Just A Notion</td>\n",
       "      <td>Just a notion that's all  \\r\\nJust a feeling t...</td>\n",
       "    </tr>\n",
       "    <tr>\n",
       "      <th>47</th>\n",
       "      <td>King Kong Song</td>\n",
       "      <td>Well I was looking at a movie on the TV last n...</td>\n",
       "    </tr>\n",
       "    <tr>\n",
       "      <th>48</th>\n",
       "      <td>Kisses Of Fire</td>\n",
       "      <td>Lay your head on my chest so you hear every be...</td>\n",
       "    </tr>\n",
       "    <tr>\n",
       "      <th>49</th>\n",
       "      <td>Knowing Me Knowing You</td>\n",
       "      <td>No more carefree laughter  \\r\\nSilence ever af...</td>\n",
       "    </tr>\n",
       "  </tbody>\n",
       "</table>\n",
       "</div>"
      ],
      "text/plain": [
       "                                        song  \\\n",
       "0                      Ahe's My Kind Of Girl   \n",
       "1                           Andante, Andante   \n",
       "2                             As Good As New   \n",
       "3                                       Bang   \n",
       "4                           Bang-A-Boomerang   \n",
       "5                         Burning My Bridges   \n",
       "6                                  Cassandra   \n",
       "7                                 Chiquitita   \n",
       "8                                Crazy World   \n",
       "9                            Crying Over You   \n",
       "10                                     Dance   \n",
       "11                             Dancing Queen   \n",
       "12                               Disillusion   \n",
       "13                     Does Your Mother Know   \n",
       "14                               Dream World   \n",
       "15                            Dum Dum Diddle   \n",
       "16                                     Eagle   \n",
       "17                            Every Good Man   \n",
       "18                                  Fernando   \n",
       "19                     Fernando (In Spanish)   \n",
       "20                      Free As A Bumble Bee   \n",
       "21  From A Twinkling Star To A Passing Angel   \n",
       "22                         Gimme Gimme Gimme   \n",
       "23                  Givin' A Little Bit More   \n",
       "24                Gonna Sing You My Lovesong   \n",
       "25                                Hamlet III   \n",
       "26                              Happy Hawaii   \n",
       "27                            Happy New Year   \n",
       "28                        He Is Your Brother   \n",
       "29                           Head Over Heels   \n",
       "30                           Here We'll Stay   \n",
       "31                             Hey Hey Helen   \n",
       "32                         Hole In Your Soul   \n",
       "33                              Honey, Honey   \n",
       "34                          I Am Just A Girl   \n",
       "35                             I Am The City   \n",
       "36              I Do, I Do, I Do, I Do, I Do   \n",
       "37                            I Have A Dream   \n",
       "38                     I Let The Music Speak   \n",
       "39                    I Saw It In The Mirror   \n",
       "40                      I Wonder (Departure)   \n",
       "41               I Wonder (Departure) [Live]   \n",
       "42               If It Wasn't For The Nights   \n",
       "43                          I'm A Marionette   \n",
       "44                 I've Been Waiting For You   \n",
       "45                             Juper Jrouper   \n",
       "46                             Just A Notion   \n",
       "47                            King Kong Song   \n",
       "48                            Kisses Of Fire   \n",
       "49                    Knowing Me Knowing You   \n",
       "\n",
       "                                                 text  \n",
       "0   Look at her face, it's a wonderful face  \\r\\nA...  \n",
       "1   Take it easy with me, please  \\r\\nTouch me gen...  \n",
       "2   I'll never know why I had to go  \\r\\nWhy I had...  \n",
       "3   Making somebody happy is a question of give an...  \n",
       "4   Making somebody happy is a question of give an...  \n",
       "5   Well, you hoot and you holler and you make me ...  \n",
       "6   Down in the street they're all singing and sho...  \n",
       "7   Chiquitita, tell me what's wrong  \\r\\nYou're e...  \n",
       "8   I was out with the morning sun  \\r\\nCouldn't s...  \n",
       "9   I'm waitin' for you baby  \\r\\nI'm sitting all ...  \n",
       "10  Oh, my love it makes me sad.  \\r\\nWhy did thin...  \n",
       "11  You can dance, you can jive, having the time o...  \n",
       "12  Changing, moving in a circle  \\r\\nI can see yo...  \n",
       "13  You're so hot, teasing me  \\r\\nSo you're blue ...  \n",
       "14  Agnetha We're not the stars of a Hollywood mov...  \n",
       "15  I can hear how you work, practising hard  \\r\\n...  \n",
       "16  They came flying from far away, now I'm under ...  \n",
       "17  Every good man needs a helping hand  \\r\\nso I ...  \n",
       "18  Can you hear the drums Fernando?  \\r\\nI rememb...  \n",
       "19  Puedes escuchar Fernando?  \\r\\nMe recuerda tie...  \n",
       "20  I'm down and I feel depressed  \\r\\nSitting her...  \n",
       "21  Twinkle, Twinkle little star  \\r\\nHow I wonder...  \n",
       "22  Half past twelve  \\r\\nAnd I'm watching the lat...  \n",
       "23  There's a gentleness to everything you do  \\r\\...  \n",
       "24  You say she's been mad at you  \\r\\nThen you sa...  \n",
       "25  When the autumn leaves are falling to the grou...  \n",
       "26  Agnetha, Frida Early this morning I drove in t...  \n",
       "27  No more champagne  \\r\\nAnd the fireworks are t...  \n",
       "28  Benny I was a fighter, always looking for trou...  \n",
       "29  I have a very good friend  \\r\\nThe kind of gir...  \n",
       "30  Love, love is a dream  \\r\\nWe were like two yo...  \n",
       "31  So at last you're free  \\r\\nIt's the way you w...  \n",
       "32  You feel bad, let me tell you, we all get the ...  \n",
       "33  Honey honey, how you thrills me, ah-hah, honey...  \n",
       "34  I am just a girl  \\r\\nOne among the others, no...  \n",
       "35  i am the city, you let me be  \\r\\ni am the cit...  \n",
       "36  Love me or leave me  \\r\\nMake your choice but ...  \n",
       "37  I have a dream, a song to sing  \\r\\nTo help me...  \n",
       "38  I'm hearing images, I'm seeing songs  \\r\\nNo p...  \n",
       "39  I saw it in the mirror  \\r\\nI saw it in my fac...  \n",
       "40  This park and these houses, old streets I have...  \n",
       "41  This park and these houses  \\r\\nOld streets I ...  \n",
       "42  I got appointments, work I have to do  \\r\\nKee...  \n",
       "43  You're so free  \\r\\nThat's what everybody's te...  \n",
       "44  I, I've been in love before  \\r\\nI thought I w...  \n",
       "45  Super Trooper beams are gonna blind me  \\r\\nBu...  \n",
       "46  Just a notion that's all  \\r\\nJust a feeling t...  \n",
       "47  Well I was looking at a movie on the TV last n...  \n",
       "48  Lay your head on my chest so you hear every be...  \n",
       "49  No more carefree laughter  \\r\\nSilence ever af...  "
      ]
     },
     "execution_count": 7,
     "metadata": {},
     "output_type": "execute_result"
    }
   ],
   "source": [
    "lyrics.head(50)"
   ]
  },
  {
   "cell_type": "markdown",
   "id": "aa86bd74",
   "metadata": {},
   "source": [
    "### Merging relevant datasets Most streamed songs & Lyrics only\n",
    "text = lyrics"
   ]
  },
  {
   "cell_type": "markdown",
   "id": "6637a5ae",
   "metadata": {},
   "source": [
    "#### 1st cleaned up dataset: Most Streamed + Lyrics"
   ]
  },
  {
   "cell_type": "code",
   "execution_count": 8,
   "id": "0c634e3e",
   "metadata": {},
   "outputs": [],
   "source": [
    "most_streamed_and_lyrics = pd.merge(most_streamed,lyrics, left_on='track_name', right_on='song')"
   ]
  },
  {
   "cell_type": "code",
   "execution_count": 9,
   "id": "73c935d2",
   "metadata": {},
   "outputs": [
    {
     "name": "stdout",
     "output_type": "stream",
     "text": [
      "<class 'pandas.core.frame.DataFrame'>\n",
      "RangeIndex: 165 entries, 0 to 164\n",
      "Data columns (total 26 columns):\n",
      " #   Column                Non-Null Count  Dtype \n",
      "---  ------                --------------  ----- \n",
      " 0   track_name            165 non-null    object\n",
      " 1   artist(s)_name        165 non-null    object\n",
      " 2   artist_count          165 non-null    int64 \n",
      " 3   released_year         165 non-null    int64 \n",
      " 4   released_month        165 non-null    int64 \n",
      " 5   released_day          165 non-null    int64 \n",
      " 6   in_spotify_playlists  165 non-null    int64 \n",
      " 7   in_spotify_charts     165 non-null    int64 \n",
      " 8   streams               165 non-null    object\n",
      " 9   in_apple_playlists    165 non-null    int64 \n",
      " 10  in_apple_charts       165 non-null    int64 \n",
      " 11  in_deezer_playlists   165 non-null    object\n",
      " 12  in_deezer_charts      165 non-null    int64 \n",
      " 13  in_shazam_charts      152 non-null    object\n",
      " 14  bpm                   165 non-null    int64 \n",
      " 15  key                   153 non-null    object\n",
      " 16  mode                  165 non-null    object\n",
      " 17  danceability_%        165 non-null    int64 \n",
      " 18  valence_%             165 non-null    int64 \n",
      " 19  energy_%              165 non-null    int64 \n",
      " 20  acousticness_%        165 non-null    int64 \n",
      " 21  instrumentalness_%    165 non-null    int64 \n",
      " 22  liveness_%            165 non-null    int64 \n",
      " 23  speechiness_%         165 non-null    int64 \n",
      " 24  song                  165 non-null    object\n",
      " 25  text                  165 non-null    object\n",
      "dtypes: int64(17), object(9)\n",
      "memory usage: 33.6+ KB\n"
     ]
    }
   ],
   "source": [
    "most_streamed_and_lyrics.info()"
   ]
  },
  {
   "cell_type": "markdown",
   "id": "7f58efbc",
   "metadata": {},
   "source": [
    "#### 2nd cleaned up dataset: All Songs + Lyrics"
   ]
  },
  {
   "cell_type": "code",
   "execution_count": 10,
   "id": "6ff6448b",
   "metadata": {},
   "outputs": [],
   "source": [
    "all_songs_and_lyrics = pd.merge(songs,lyrics, left_on='track_name', right_on='song', suffixes=('', ''))"
   ]
  },
  {
   "cell_type": "code",
   "execution_count": 11,
   "id": "6fd0bd01",
   "metadata": {},
   "outputs": [],
   "source": [
    "all_songs_and_lyrics = all_songs_and_lyrics.drop(columns=['song'])"
   ]
  },
  {
   "cell_type": "code",
   "execution_count": 12,
   "id": "a221117f",
   "metadata": {},
   "outputs": [
    {
     "name": "stdout",
     "output_type": "stream",
     "text": [
      "<class 'pandas.core.frame.DataFrame'>\n",
      "RangeIndex: 5531 entries, 0 to 5530\n",
      "Data columns (total 22 columns):\n",
      " #   Column            Non-Null Count  Dtype  \n",
      "---  ------            --------------  -----  \n",
      " 0   Unnamed: 0        5531 non-null   int64  \n",
      " 1   track_id          5531 non-null   object \n",
      " 2   artists           5531 non-null   object \n",
      " 3   album_name        5531 non-null   object \n",
      " 4   track_name        5531 non-null   object \n",
      " 5   popularity        5531 non-null   int64  \n",
      " 6   duration_ms       5531 non-null   int64  \n",
      " 7   explicit          5531 non-null   bool   \n",
      " 8   danceability      5531 non-null   float64\n",
      " 9   energy            5531 non-null   float64\n",
      " 10  key               5531 non-null   int64  \n",
      " 11  loudness          5531 non-null   float64\n",
      " 12  mode              5531 non-null   int64  \n",
      " 13  speechiness       5531 non-null   float64\n",
      " 14  acousticness      5531 non-null   float64\n",
      " 15  instrumentalness  5531 non-null   float64\n",
      " 16  liveness          5531 non-null   float64\n",
      " 17  valence           5531 non-null   float64\n",
      " 18  tempo             5531 non-null   float64\n",
      " 19  time_signature    5531 non-null   int64  \n",
      " 20  track_genre       5531 non-null   object \n",
      " 21  text              5531 non-null   object \n",
      "dtypes: bool(1), float64(9), int64(6), object(6)\n",
      "memory usage: 913.0+ KB\n"
     ]
    }
   ],
   "source": [
    "all_songs_and_lyrics.info()"
   ]
  },
  {
   "cell_type": "markdown",
   "id": "491ae06c",
   "metadata": {},
   "source": [
    "### Saving the cleaned up relevant datasets into new csv files"
   ]
  },
  {
   "cell_type": "code",
   "execution_count": 13,
   "id": "db6dbb08",
   "metadata": {},
   "outputs": [],
   "source": [
    "all_songs_and_lyrics.to_csv('all_songs_and_lyrics.csv', index=False)"
   ]
  },
  {
   "cell_type": "code",
   "execution_count": 14,
   "id": "7e7dc61d",
   "metadata": {},
   "outputs": [],
   "source": [
    "most_streamed_and_lyrics.to_csv('most_streamed_and_lyrics.csv', index=False)"
   ]
  },
  {
   "cell_type": "markdown",
   "id": "4178419e",
   "metadata": {},
   "source": [
    "# Create own Text Generation Model using Tensorflow\n",
    "### Training the model with our song data primarily focusing on lyrics"
   ]
  },
  {
   "cell_type": "code",
   "execution_count": 14,
   "id": "42da828f",
   "metadata": {},
   "outputs": [],
   "source": [
    "# Load the dataset\n",
    "data = pd.read_csv('all_songs_and_lyrics.csv')\n",
    "\n",
    "# Extract lyrics and numerical features\n",
    "lyrics = data['text']\n",
    "numerical_features = data[['danceability', 'energy', 'key', 'loudness', 'mode', 'speechiness', 'acousticness', 'instrumentalness', 'liveness', 'valence', 'tempo']]\n",
    "\n",
    "# Clean and preprocess lyrics\n",
    "def preprocess_lyrics(lyric):\n",
    "    # Lowercase the lyric\n",
    "    lyric = lyric.lower()\n",
    "\n",
    "    # Remove punctuation\n",
    "    lyric = re.sub(r'[^\\w\\s]', '', lyric)\n",
    "\n",
    "    # Remove extra whitespaces\n",
    "    lyric = re.sub(r'\\s+', ' ', lyric)\n",
    "\n",
    "    # Return the preprocessed lyric\n",
    "    return lyric\n",
    "\n",
    "preprocessed_lyrics = [preprocess_lyrics(lyric) for lyric in lyrics]\n",
    "\n",
    "tokenizer = Tokenizer()\n",
    "tokenizer.fit_on_texts(preprocessed_lyrics)\n",
    "sequences = tokenizer.texts_to_sequences(preprocessed_lyrics)\n",
    "total_words = len(tokenizer.word_index) + 1\n",
    "max_sequence_length = max(len(seq) for seq in tokenizer.texts_to_sequences(data['text']))\n",
    "\n",
    "padded_sequences = pad_sequences(sequences, maxlen=max_sequence_length, padding='post', truncating='post')\n",
    "\n",
    "input_sequences = []\n",
    "for sequence in sequences:\n",
    "    for i in range(1, len(sequence)):\n",
    "        n_gram_sequence = sequence[:i+1]\n",
    "        input_sequences.append(n_gram_sequence)\n",
    "\n",
    "input_sequences = pad_sequences(input_sequences, maxlen=max_sequence_length, padding='pre')\n",
    "\n",
    "X = input_sequences[:, :-1]\n",
    "y = input_sequences[:, -1]"
   ]
  },
  {
   "cell_type": "code",
   "execution_count": null,
   "id": "ec54b865",
   "metadata": {},
   "outputs": [],
   "source": [
    "model = tf.keras.Sequential([\n",
    "    tf.keras.layers.Embedding(total_words, 64, input_length=max_sequence_length-1),\n",
    "    tf.keras.layers.LSTM(100),\n",
    "    tf.keras.layers.Dense(total_words, activation='softmax')\n",
    "])\n",
    "\n",
    "model.compile(loss='sparse_categorical_crossentropy', optimizer='adam', metrics=['accuracy'])\n",
    "model.fit(X, y, epochs=1, verbose=1)"
   ]
  },
  {
   "attachments": {
    "Screenshot%202024-01-27%20at%2012.05.42.png": {
     "image/png": "[encoded data removed]"
    }
   },
   "cell_type": "markdown",
   "id": "680efc4c",
   "metadata": {},
   "source": [
    "![Screenshot%202024-01-27%20at%2012.05.42.png](attachment:Screenshot%202024-01-27%20at%2012.05.42.png)"
   ]
  },
  {
   "cell_type": "markdown",
   "id": "9c495a8f",
   "metadata": {},
   "source": [
    "#### This model ran for about 10 hours on my 16GB RAM Macbook pro"
   ]
  },
  {
   "cell_type": "markdown",
   "id": "5aa2e027",
   "metadata": {},
   "source": [
    "### Save model for futures usages"
   ]
  },
  {
   "cell_type": "code",
   "execution_count": null,
   "id": "8025946f",
   "metadata": {},
   "outputs": [],
   "source": [
    "new_model = tf.keras.models.load_model('my_first_shit.keras')"
   ]
  },
  {
   "cell_type": "markdown",
   "id": "4cc40115",
   "metadata": {},
   "source": [
    "### Testing the model with a simple text input"
   ]
  },
  {
   "cell_type": "code",
   "execution_count": null,
   "id": "bf6932f2",
   "metadata": {},
   "outputs": [],
   "source": [
    "seed_text = \"How do I\"\n",
    "next_words = 10\n",
    "\n",
    "for _ in range(next_words):\n",
    "    token_list = tokenizer.texts_to_sequences([seed_text])[0]\n",
    "    token_list = pad_sequences([token_list], maxlen=max_sequence_length-1, padding='pre')\n",
    "    predict_x = model.predict(token_list, verbose=0) \n",
    "    classes_x = np.argmax(predict_x,axis=1)\n",
    "    output_word = \"\"\n",
    "    for word, index in tokenizer.word_index.items():\n",
    "        if index == classes_x:\n",
    "            output_word = word\n",
    "            break\n",
    "    seed_text += \" \" + output_word\n",
    "\n",
    "print(seed_text)"
   ]
  },
  {
   "attachments": {
    "Screenshot%202024-01-27%20at%2012.09.55.png": {
     "image/png": "[encoded data removed]"
    }
   },
   "cell_type": "markdown",
   "id": "d589d5e4",
   "metadata": {},
   "source": [
    "![Screenshot%202024-01-27%20at%2012.09.55.png](attachment:Screenshot%202024-01-27%20at%2012.09.55.png)"
   ]
  },
  {
   "cell_type": "code",
   "execution_count": null,
   "id": "16baad68",
   "metadata": {},
   "outputs": [],
   "source": [
    "# Show the model architecture\n",
    "new_model.summary()"
   ]
  },
  {
   "attachments": {
    "Screenshot%202024-01-27%20at%2012.11.01.png": {
     "image/png": "[encoded data removed]"
    }
   },
   "cell_type": "markdown",
   "id": "d61c0be2",
   "metadata": {},
   "source": [
    "![Screenshot%202024-01-27%20at%2012.11.01.png](attachment:Screenshot%202024-01-27%20at%2012.11.01.png)"
   ]
  },
  {
   "cell_type": "code",
   "execution_count": 1,
   "id": "df0e76e4",
   "metadata": {},
   "outputs": [],
   "source": [
    "from tensorflow.keras.models import load_model"
   ]
  },
  {
   "cell_type": "code",
   "execution_count": 2,
   "id": "e2e393c1",
   "metadata": {},
   "outputs": [
    {
     "name": "stdout",
     "output_type": "stream",
     "text": [
      "Model: \"sequential\"\n",
      "_________________________________________________________________\n",
      " Layer (type)                Output Shape              Param #   \n",
      "=================================================================\n",
      " embedding (Embedding)       (None, 763, 64)           1625344   \n",
      "                                                                 \n",
      " lstm (LSTM)                 (None, 100)               66000     \n",
      "                                                                 \n",
      " dense (Dense)               (None, 25396)             2564996   \n",
      "                                                                 \n",
      "=================================================================\n",
      "Total params: 4256340 (16.24 MB)\n",
      "Trainable params: 4256340 (16.24 MB)\n",
      "Non-trainable params: 0 (0.00 Byte)\n",
      "_________________________________________________________________\n"
     ]
    }
   ],
   "source": [
    "# Load the model\n",
    "model = load_model('my_first_shit.keras')\n",
    "\n",
    "# Summarize the model\n",
    "model.summary()"
   ]
  },
  {
   "cell_type": "code",
   "execution_count": 15,
   "id": "d026e6f2",
   "metadata": {},
   "outputs": [],
   "source": [
    "def completeSentenceUsingNWords(seed_text, next_words):\n",
    "    for _ in range(next_words):\n",
    "        token_list = tokenizer.texts_to_sequences([seed_text])[0]\n",
    "        token_list = pad_sequences([token_list], maxlen=max_sequence_length-1, padding='pre')\n",
    "        predict_x = model.predict(token_list, verbose=0) \n",
    "        classes_x = np.argmax(predict_x,axis=1)\n",
    "        output_word = \"\"\n",
    "        for word, index in tokenizer.word_index.items():\n",
    "            if index == classes_x:\n",
    "                output_word = word\n",
    "                break\n",
    "        seed_text += \" \" + output_word\n",
    "    print(seed_text)\n",
    "    return seed_text"
   ]
  },
  {
   "cell_type": "code",
   "execution_count": 20,
   "id": "442568d9",
   "metadata": {},
   "outputs": [
    {
     "name": "stdout",
     "output_type": "stream",
     "text": [
      "I should have bought you to the sea of the world i was\n"
     ]
    },
    {
     "data": {
      "text/plain": [
       "'I should have bought you to the sea of the world i was'"
      ]
     },
     "execution_count": 20,
     "metadata": {},
     "output_type": "execute_result"
    }
   ],
   "source": [
    "completeSentenceUsingNWords('I should have bought you', 8)"
   ]
  },
  {
   "cell_type": "code",
   "execution_count": 25,
   "id": "94e04c89",
   "metadata": {},
   "outputs": [
    {
     "name": "stdout",
     "output_type": "stream",
     "text": [
      "When I think of You, the world is the one\n"
     ]
    },
    {
     "data": {
      "text/plain": [
       "'When I think of You, the world is the one'"
      ]
     },
     "execution_count": 25,
     "metadata": {},
     "output_type": "execute_result"
    }
   ],
   "source": [
    "completeSentenceUsingNWords('When I think of You, the world', 3)"
   ]
  },
  {
   "cell_type": "code",
   "execution_count": 26,
   "id": "600802eb",
   "metadata": {},
   "outputs": [
    {
     "name": "stdout",
     "output_type": "stream",
     "text": [
      "In the middle of the night i can see\n"
     ]
    },
    {
     "data": {
      "text/plain": [
       "'In the middle of the night i can see'"
      ]
     },
     "execution_count": 26,
     "metadata": {},
     "output_type": "execute_result"
    }
   ],
   "source": [
    "completeSentenceUsingNWords('In the middle of the night', 3)"
   ]
  },
  {
   "cell_type": "code",
   "execution_count": 35,
   "id": "f3e13eb7",
   "metadata": {},
   "outputs": [
    {
     "name": "stdout",
     "output_type": "stream",
     "text": [
      "Through my Heart break, I learned to be the one who i could be\n"
     ]
    },
    {
     "data": {
      "text/plain": [
       "'Through my Heart break, I learned to be the one who i could be'"
      ]
     },
     "execution_count": 35,
     "metadata": {},
     "output_type": "execute_result"
    }
   ],
   "source": [
    "completeSentenceUsingNWords('Through my Heart break, I learned', 8)"
   ]
  },
  {
   "cell_type": "code",
   "execution_count": 37,
   "id": "82a76c17",
   "metadata": {},
   "outputs": [
    {
     "name": "stdout",
     "output_type": "stream",
     "text": [
      "I hear you talking in the middle of the night\n"
     ]
    },
    {
     "data": {
      "text/plain": [
       "'I hear you talking in the middle of the night'"
      ]
     },
     "execution_count": 37,
     "metadata": {},
     "output_type": "execute_result"
    }
   ],
   "source": [
    "completeSentenceUsingNWords('I hear you talking in', 5)"
   ]
  },
  {
   "cell_type": "code",
   "execution_count": 38,
   "id": "797e28a3",
   "metadata": {},
   "outputs": [
    {
     "name": "stdout",
     "output_type": "stream",
     "text": [
      "Is there something on the ground and the sun\n"
     ]
    },
    {
     "data": {
      "text/plain": [
       "'Is there something on the ground and the sun'"
      ]
     },
     "execution_count": 38,
     "metadata": {},
     "output_type": "execute_result"
    }
   ],
   "source": [
    "completeSentenceUsingNWords('Is there something on', 5)"
   ]
  },
  {
   "cell_type": "code",
   "execution_count": 43,
   "id": "097101fe",
   "metadata": {},
   "outputs": [
    {
     "name": "stdout",
     "output_type": "stream",
     "text": [
      "She likes boys and i know i was a little bit of her\n"
     ]
    },
    {
     "data": {
      "text/plain": [
       "'She likes boys and i know i was a little bit of her'"
      ]
     },
     "execution_count": 43,
     "metadata": {},
     "output_type": "execute_result"
    }
   ],
   "source": [
    "completeSentenceUsingNWords('She likes boys', 10)"
   ]
  },
  {
   "cell_type": "markdown",
   "id": "a9874889",
   "metadata": {},
   "source": [
    "## This project can be further developed using the other properties of the datasets, and, of course, fine tuning and multiple training rounds. For now, the model completes basic sentences"
   ]
  }
 ],
 "metadata": {
  "kernelspec": {
   "display_name": "Python 3 (ipykernel)",
   "language": "python",
   "name": "python3"
  },
  "language_info": {
   "codemirror_mode": {
    "name": "ipython",
    "version": 3
   },
   "file_extension": ".py",
   "mimetype": "text/x-python",
   "name": "python",
   "nbconvert_exporter": "python",
   "pygments_lexer": "ipython3",
   "version": "3.11.5"
  }
 },
 "nbformat": 4,
 "nbformat_minor": 5
}
